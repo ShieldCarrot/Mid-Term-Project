
Skip to content
Pull requests
Issues
Marketplace
Explore
@ShieldCarrot
ShieldCarrot /
Mid-Term-Project
Public

1
0

    0

Code
Issues
Pull requests
Actions
Projects
Wiki
Security
Insights

    Settings

Update Mid-Term.ipynb

    main 

@ShieldCarrot
ShieldCarrot committed 28 minutes ago
1 parent 0d5d3f0 commit 18996a62eb0e7ddb11927ba4739e51c0805ee3e6
Showing
with 20 additions and 35 deletions.
55 Mid-Term.ipynb
@@ -29,37 +29,11 @@
  },
  {
   "cell_type": "code",
   "execution_count": 11,
   "execution_count": 6,
   "metadata": {
    "scrolled": true
   },
   "outputs": [
    {
     "name": "stdout",
     "output_type": "stream",
     "text": [
      "Do you have any location preference? (Choose one number)\n",
      "1 Baden-Württemberg\n",
      "2 Bavaria\n",
      "3 Berlin\n",
      "4 Brandenburg\n",
      "5 Bremen\n",
      "6 Hamburg\n",
      "7 Hesse\n",
      "8 Lower Saxony\n",
      "9 Mecklenburg-Western Pomerania\n",
      "10 North Rhine-Westphalia\n",
      "11 Rhineland-Palatinate\n",
      "12 Saarland\n",
      "13 Saxony\n",
      "14 Saxony-Anhalt\n",
      "15 Schleswig-Holstein\n",
      "16 Thuringia\n",
      "Your input: 1\n",
      "Baden-Württemberg\n"
     ]
    }
   ],
   "outputs": [],
   "source": [
    "########################################\n",
    "## Created on Tue Nov 30 23:40:54 2021##\n",
@@ -101,8 +75,9 @@
    "        1: {}, # for 'TertEduList'\n",
    "        2: {}, # for 'TertEduType'\n",
    "        3: {}, # for 'TertEduProgram'\n",
    "        4: {}, # for 'LivingCostsByState'\n",
    "        5: {}  # for 'UniAssist'\n",
    "        4: {}, # for 'TertEduCosts'\n",
    "        5: {}, # for 'LivingCostsByState'\n",
    "        6: {}  # for 'UniAssist'\n",
    "    }\n",
    "\n",
    "    ##----------------------------------------------------------------------------------------\n",
@@ -127,17 +102,25 @@
    "    # Iterating through every data in the sheet \"TertEduProgram\" and store it to data\n",
    "    ws = wb['TertEduProgram']\n",
    "    for row in ws.iter_rows(min_row=2, max_col=4):\n",
    "        data[3][row[0].value] = [row[1].value , row[2].value, row[3].value]\n",
    "        if data[3].get(row[0].value) == None:\n",
    "            data[3][row[0].value] = [[row[1].value , row[2].value, row[3].value]]\n",
    "        else:\n",
    "            data[3][row[0].value].append([row[1].value , row[2].value, row[3].value])\n",
    "\n",
    "    # Iterating through every data in the sheet \"TertEduProgram\" and store it to data\n",
    "    ws = wb['TertEduCosts']\n",
    "    for row in ws.iter_rows(min_row=2, max_col=5):\n",
    "        data[4][row[0].value] = [row[1].value , row[2].value, row[3].value]\n",
    "        \n",
    "    # Iterating through every data in the sheet \"LivingCostsByState\" and store it to data\n",
    "    ws = wb['LivingCostsByState']\n",
    "    for row in ws.iter_rows(min_row=2, max_col=6):\n",
    "        data[4][row[0].value] = [row[1].value , row[2].value, row[3].value, row[4].value, row[5].value]\n",
    "        data[5][row[0].value] = [row[1].value , row[2].value, row[3].value, row[4].value, row[5].value]\n",
    "\n",
    "    # Iterating through every data in the sheet \"UniAssist\" and store it to data\n",
    "    ws = wb['UniAssist']\n",
    "    for row in ws.iter_rows(min_row=2, max_col=3):\n",
    "        data[5][row[0].value] = [row[1].value , row[2].value]\n",
    "        data[6][row[0].value] = [row[1].value , row[2].value]\n",
    "    \n",
    "    # Dump the compiled file\n",
    "    with open(\"Data.json\", \"w\") as json_file:\n",
@@ -179,7 +162,6 @@
    "    return tertiary_edu_type\n",
    "\n",
    "\n",
    "\n",
    "# Ask for user input for the institution location\n",
    "#------------------------------------------------\n",
    "def location_bundesland():\n",
@@ -196,7 +178,10 @@
    "        print(\"Your input is incorrect, please try again.\")\n",
    "    \n",
    "    institution_loc = bundesland_name[institution_loc]\n",
    "    return institution_loc\n"
    "    return institution_loc\n",
    "\n",
    "\n",
    "json_updater()"
   ]
  },
  {
0 comments on commit 18996a6
@ShieldCarrot
Attach files by dragging & dropping, selecting or pasting them.

You’re receiving notifications because you’re watching this repository.

    © 2021 GitHub, Inc.

    Terms
    Privacy
    Security
    Status
    Docs
    Contact GitHub
    Pricing
    API
    Training
    Blog
    About

Loading complete
